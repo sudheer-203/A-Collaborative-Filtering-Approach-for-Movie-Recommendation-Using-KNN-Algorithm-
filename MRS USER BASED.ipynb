{
 "cells": [
  {
   "cell_type": "code",
   "execution_count": 1,
   "id": "13694628-6fcc-4653-b25e-941b21d85e04",
   "metadata": {},
   "outputs": [
    {
     "name": "stderr",
     "output_type": "stream",
     "text": [
      "C:\\Users\\srira\\AppData\\Local\\Temp\\ipykernel_14420\\752163494.py:2: DeprecationWarning: \n",
      "Pyarrow will become a required dependency of pandas in the next major release of pandas (pandas 3.0),\n",
      "(to allow more performant data types, such as the Arrow string type, and better interoperability with other libraries)\n",
      "but was not found to be installed on your system.\n",
      "If this would cause problems for you,\n",
      "please provide us feedback at https://github.com/pandas-dev/pandas/issues/54466\n",
      "        \n",
      "  import pandas as pd  # data processing, CSV file I/O (e.g. pd.read_csv)\n"
     ]
    }
   ],
   "source": [
    "import numpy as np  # linear algebra\n",
    "import pandas as pd  # data processing, CSV file I/O (e.g. pd.read_csv)\n",
    "import matplotlib.pyplot as plt\n",
    "import seaborn as sns\n",
    "\n",
    "# Libraries for Recommendation System\n",
    "from scipy.sparse import csr_matrix\n",
    "from sklearn.neighbors import NearestNeighbors\n",
    "from sklearn.metrics import mean_squared_error"
   ]
  },
  {
   "cell_type": "code",
   "execution_count": 2,
   "id": "8456197b-9ef6-4260-b72a-031fcc8e5a04",
   "metadata": {},
   "outputs": [],
   "source": [
    "import os\n",
    "for dirname, _, filenames in os.walk('input.csv'):\n",
    "    for filename in filenames:\n",
    "        print(os.path.join(dirname, filename))"
   ]
  },
  {
   "cell_type": "code",
   "execution_count": 3,
   "id": "4da40c0e-de91-4aa7-954e-b4b4657370c8",
   "metadata": {},
   "outputs": [],
   "source": [
    "data_movie = pd.read_csv(\"movie.csv\")\n",
    "data_rating = pd.read_csv(\"rating.csv\")"
   ]
  },
  {
   "cell_type": "code",
   "execution_count": 4,
   "id": "f60782e5-04cf-4595-9899-c97b2887d47f",
   "metadata": {},
   "outputs": [],
   "source": [
    "movie = data_movie.loc[:, [\"movieId\", \"title\"]]\n",
    "rating = data_rating.loc[:, [\"userId\", \"movieId\", \"rating\"]]\n",
    "data = pd.merge(movie, rating)"
   ]
  },
  {
   "cell_type": "code",
   "execution_count": 5,
   "id": "ea5ff820-37af-438d-b77f-23f8ff2cc37a",
   "metadata": {},
   "outputs": [],
   "source": [
    "data = data.iloc[:1000000, :]"
   ]
  },
  {
   "cell_type": "code",
   "execution_count": 6,
   "id": "c765ce7f-a93a-4180-bf44-f50ffd26ce2e",
   "metadata": {},
   "outputs": [
    {
     "name": "stdout",
     "output_type": "stream",
     "text": [
      "\n",
      "User-Movie Pivot Table Sample:\n",
      "title   Ace Ventura: When Nature Calls (1995)  Across the Sea of Time (1995)  \\\n",
      "userId                                                                         \n",
      "1                                         0.0                            0.0   \n",
      "2                                         0.0                            0.0   \n",
      "3                                         0.0                            0.0   \n",
      "4                                         3.0                            0.0   \n",
      "5                                         0.0                            0.0   \n",
      "6                                         0.0                            0.0   \n",
      "7                                         0.0                            0.0   \n",
      "8                                         1.0                            0.0   \n",
      "10                                        0.0                            0.0   \n",
      "11                                        3.5                            0.0   \n",
      "\n",
      "title   Amazing Panda Adventure, The (1995)  American President, The (1995)  \\\n",
      "userId                                                                        \n",
      "1                                       0.0                             0.0   \n",
      "2                                       0.0                             0.0   \n",
      "3                                       0.0                             0.0   \n",
      "4                                       0.0                             0.0   \n",
      "5                                       0.0                             5.0   \n",
      "6                                       0.0                             0.0   \n",
      "7                                       0.0                             4.0   \n",
      "8                                       0.0                             0.0   \n",
      "10                                      0.0                             4.0   \n",
      "11                                      0.0                             0.0   \n",
      "\n",
      "title   Angela (1995)  Angels and Insects (1995)  \\\n",
      "userId                                             \n",
      "1                 0.0                        0.0   \n",
      "2                 0.0                        0.0   \n",
      "3                 0.0                        0.0   \n",
      "4                 0.0                        0.0   \n",
      "5                 0.0                        0.0   \n",
      "6                 0.0                        0.0   \n",
      "7                 0.0                        0.0   \n",
      "8                 0.0                        0.0   \n",
      "10                0.0                        0.0   \n",
      "11                0.0                        0.0   \n",
      "\n",
      "title   Anne Frank Remembered (1995)  Antonia's Line (Antonia) (1995)  \\\n",
      "userId                                                                  \n",
      "1                                0.0                              0.0   \n",
      "2                                0.0                              0.0   \n",
      "3                                0.0                              0.0   \n",
      "4                                0.0                              0.0   \n",
      "5                                0.0                              0.0   \n",
      "6                                0.0                              0.0   \n",
      "7                                0.0                              0.0   \n",
      "8                                0.0                              0.0   \n",
      "10                               0.0                              0.0   \n",
      "11                               0.0                              0.0   \n",
      "\n",
      "title   Assassins (1995)  Babe (1995)  ...  Unforgettable (1996)  \\\n",
      "userId                                 ...                         \n",
      "1                    0.0          0.0  ...                   0.0   \n",
      "2                    0.0          0.0  ...                   0.0   \n",
      "3                    0.0          0.0  ...                   0.0   \n",
      "4                    0.0          0.0  ...                   0.0   \n",
      "5                    0.0          0.0  ...                   0.0   \n",
      "6                    0.0          0.0  ...                   0.0   \n",
      "7                    0.0          0.0  ...                   0.0   \n",
      "8                    0.0          0.0  ...                   0.0   \n",
      "10                   0.0          0.0  ...                   0.0   \n",
      "11                   0.0          0.0  ...                   0.0   \n",
      "\n",
      "title   Up Close and Personal (1996)  Usual Suspects, The (1995)  \\\n",
      "userId                                                             \n",
      "1                                0.0                         3.5   \n",
      "2                                0.0                         0.0   \n",
      "3                                0.0                         5.0   \n",
      "4                                0.0                         0.0   \n",
      "5                                2.0                         0.0   \n",
      "6                                4.0                         0.0   \n",
      "7                                0.0                         0.0   \n",
      "8                                0.0                         0.0   \n",
      "10                               0.0                         0.0   \n",
      "11                               0.0                         0.0   \n",
      "\n",
      "title   Vampire in Brooklyn (1995)  Waiting to Exhale (1995)  \\\n",
      "userId                                                         \n",
      "1                              0.0                       0.0   \n",
      "2                              0.0                       0.0   \n",
      "3                              0.0                       0.0   \n",
      "4                              0.0                       0.0   \n",
      "5                              0.0                       0.0   \n",
      "6                              0.0                       0.0   \n",
      "7                              0.0                       0.0   \n",
      "8                              0.0                       0.0   \n",
      "10                             0.0                       0.0   \n",
      "11                             0.0                       0.0   \n",
      "\n",
      "title   When Night Is Falling (1995)  \\\n",
      "userId                                 \n",
      "1                                0.0   \n",
      "2                                0.0   \n",
      "3                                0.0   \n",
      "4                                0.0   \n",
      "5                                0.0   \n",
      "6                                0.0   \n",
      "7                                0.0   \n",
      "8                                0.0   \n",
      "10                               0.0   \n",
      "11                               0.0   \n",
      "\n",
      "title   White Balloon, The (Badkonake sefid) (1995)  White Squall (1996)  \\\n",
      "userId                                                                     \n",
      "1                                               0.0                  0.0   \n",
      "2                                               0.0                  0.0   \n",
      "3                                               0.0                  0.0   \n",
      "4                                               0.0                  0.0   \n",
      "5                                               0.0                  0.0   \n",
      "6                                               0.0                  0.0   \n",
      "7                                               0.0                  0.0   \n",
      "8                                               0.0                  0.0   \n",
      "10                                              0.0                  0.0   \n",
      "11                                              0.0                  0.0   \n",
      "\n",
      "title   Wings of Courage (1995)  Young Poisoner's Handbook, The (1995)  \n",
      "userId                                                                  \n",
      "1                           0.0                                    0.0  \n",
      "2                           0.0                                    0.0  \n",
      "3                           0.0                                    0.0  \n",
      "4                           0.0                                    0.0  \n",
      "5                           0.0                                    0.0  \n",
      "6                           0.0                                    0.0  \n",
      "7                           0.0                                    0.0  \n",
      "8                           0.0                                    0.0  \n",
      "10                          0.0                                    0.0  \n",
      "11                          0.0                                    0.0  \n",
      "\n",
      "[10 rows x 146 columns]\n"
     ]
    }
   ],
   "source": [
    "user_movie_table = data.pivot_table(index=[\"userId\"], columns=[\"title\"], values=\"rating\").fillna(0)\n",
    "print(\"\\nUser-Movie Pivot Table Sample:\")\n",
    "print(user_movie_table.head(10))"
   ]
  },
  {
   "cell_type": "code",
   "execution_count": 7,
   "id": "262f4c8f-3977-4c13-b8ba-151cabacffb1",
   "metadata": {},
   "outputs": [
    {
     "name": "stdout",
     "output_type": "stream",
     "text": [
      "\n",
      "Chosen User ID is: 19853\n"
     ]
    }
   ],
   "source": [
    "query_index = np.random.choice(user_movie_table.shape[0])\n",
    "print(\"\\nChosen User ID is:\", user_movie_table.index[query_index])"
   ]
  },
  {
   "cell_type": "code",
   "execution_count": 8,
   "id": "b046a8ed-c04a-4574-9506-a0791898d091",
   "metadata": {},
   "outputs": [],
   "source": [
    "user_movie_table_matrix = csr_matrix(user_movie_table.values)"
   ]
  },
  {
   "cell_type": "code",
   "execution_count": 9,
   "id": "f842f0eb-6826-4b0f-9dd1-8842e3a0f5f7",
   "metadata": {},
   "outputs": [
    {
     "data": {
      "text/html": [
       "<style>#sk-container-id-1 {\n",
       "  /* Definition of color scheme common for light and dark mode */\n",
       "  --sklearn-color-text: black;\n",
       "  --sklearn-color-line: gray;\n",
       "  /* Definition of color scheme for unfitted estimators */\n",
       "  --sklearn-color-unfitted-level-0: #fff5e6;\n",
       "  --sklearn-color-unfitted-level-1: #f6e4d2;\n",
       "  --sklearn-color-unfitted-level-2: #ffe0b3;\n",
       "  --sklearn-color-unfitted-level-3: chocolate;\n",
       "  /* Definition of color scheme for fitted estimators */\n",
       "  --sklearn-color-fitted-level-0: #f0f8ff;\n",
       "  --sklearn-color-fitted-level-1: #d4ebff;\n",
       "  --sklearn-color-fitted-level-2: #b3dbfd;\n",
       "  --sklearn-color-fitted-level-3: cornflowerblue;\n",
       "\n",
       "  /* Specific color for light theme */\n",
       "  --sklearn-color-text-on-default-background: var(--sg-text-color, var(--theme-code-foreground, var(--jp-content-font-color1, black)));\n",
       "  --sklearn-color-background: var(--sg-background-color, var(--theme-background, var(--jp-layout-color0, white)));\n",
       "  --sklearn-color-border-box: var(--sg-text-color, var(--theme-code-foreground, var(--jp-content-font-color1, black)));\n",
       "  --sklearn-color-icon: #696969;\n",
       "\n",
       "  @media (prefers-color-scheme: dark) {\n",
       "    /* Redefinition of color scheme for dark theme */\n",
       "    --sklearn-color-text-on-default-background: var(--sg-text-color, var(--theme-code-foreground, var(--jp-content-font-color1, white)));\n",
       "    --sklearn-color-background: var(--sg-background-color, var(--theme-background, var(--jp-layout-color0, #111)));\n",
       "    --sklearn-color-border-box: var(--sg-text-color, var(--theme-code-foreground, var(--jp-content-font-color1, white)));\n",
       "    --sklearn-color-icon: #878787;\n",
       "  }\n",
       "}\n",
       "\n",
       "#sk-container-id-1 {\n",
       "  color: var(--sklearn-color-text);\n",
       "}\n",
       "\n",
       "#sk-container-id-1 pre {\n",
       "  padding: 0;\n",
       "}\n",
       "\n",
       "#sk-container-id-1 input.sk-hidden--visually {\n",
       "  border: 0;\n",
       "  clip: rect(1px 1px 1px 1px);\n",
       "  clip: rect(1px, 1px, 1px, 1px);\n",
       "  height: 1px;\n",
       "  margin: -1px;\n",
       "  overflow: hidden;\n",
       "  padding: 0;\n",
       "  position: absolute;\n",
       "  width: 1px;\n",
       "}\n",
       "\n",
       "#sk-container-id-1 div.sk-dashed-wrapped {\n",
       "  border: 1px dashed var(--sklearn-color-line);\n",
       "  margin: 0 0.4em 0.5em 0.4em;\n",
       "  box-sizing: border-box;\n",
       "  padding-bottom: 0.4em;\n",
       "  background-color: var(--sklearn-color-background);\n",
       "}\n",
       "\n",
       "#sk-container-id-1 div.sk-container {\n",
       "  /* jupyter's `normalize.less` sets `[hidden] { display: none; }`\n",
       "     but bootstrap.min.css set `[hidden] { display: none !important; }`\n",
       "     so we also need the `!important` here to be able to override the\n",
       "     default hidden behavior on the sphinx rendered scikit-learn.org.\n",
       "     See: https://github.com/scikit-learn/scikit-learn/issues/21755 */\n",
       "  display: inline-block !important;\n",
       "  position: relative;\n",
       "}\n",
       "\n",
       "#sk-container-id-1 div.sk-text-repr-fallback {\n",
       "  display: none;\n",
       "}\n",
       "\n",
       "div.sk-parallel-item,\n",
       "div.sk-serial,\n",
       "div.sk-item {\n",
       "  /* draw centered vertical line to link estimators */\n",
       "  background-image: linear-gradient(var(--sklearn-color-text-on-default-background), var(--sklearn-color-text-on-default-background));\n",
       "  background-size: 2px 100%;\n",
       "  background-repeat: no-repeat;\n",
       "  background-position: center center;\n",
       "}\n",
       "\n",
       "/* Parallel-specific style estimator block */\n",
       "\n",
       "#sk-container-id-1 div.sk-parallel-item::after {\n",
       "  content: \"\";\n",
       "  width: 100%;\n",
       "  border-bottom: 2px solid var(--sklearn-color-text-on-default-background);\n",
       "  flex-grow: 1;\n",
       "}\n",
       "\n",
       "#sk-container-id-1 div.sk-parallel {\n",
       "  display: flex;\n",
       "  align-items: stretch;\n",
       "  justify-content: center;\n",
       "  background-color: var(--sklearn-color-background);\n",
       "  position: relative;\n",
       "}\n",
       "\n",
       "#sk-container-id-1 div.sk-parallel-item {\n",
       "  display: flex;\n",
       "  flex-direction: column;\n",
       "}\n",
       "\n",
       "#sk-container-id-1 div.sk-parallel-item:first-child::after {\n",
       "  align-self: flex-end;\n",
       "  width: 50%;\n",
       "}\n",
       "\n",
       "#sk-container-id-1 div.sk-parallel-item:last-child::after {\n",
       "  align-self: flex-start;\n",
       "  width: 50%;\n",
       "}\n",
       "\n",
       "#sk-container-id-1 div.sk-parallel-item:only-child::after {\n",
       "  width: 0;\n",
       "}\n",
       "\n",
       "/* Serial-specific style estimator block */\n",
       "\n",
       "#sk-container-id-1 div.sk-serial {\n",
       "  display: flex;\n",
       "  flex-direction: column;\n",
       "  align-items: center;\n",
       "  background-color: var(--sklearn-color-background);\n",
       "  padding-right: 1em;\n",
       "  padding-left: 1em;\n",
       "}\n",
       "\n",
       "\n",
       "/* Toggleable style: style used for estimator/Pipeline/ColumnTransformer box that is\n",
       "clickable and can be expanded/collapsed.\n",
       "- Pipeline and ColumnTransformer use this feature and define the default style\n",
       "- Estimators will overwrite some part of the style using the `sk-estimator` class\n",
       "*/\n",
       "\n",
       "/* Pipeline and ColumnTransformer style (default) */\n",
       "\n",
       "#sk-container-id-1 div.sk-toggleable {\n",
       "  /* Default theme specific background. It is overwritten whether we have a\n",
       "  specific estimator or a Pipeline/ColumnTransformer */\n",
       "  background-color: var(--sklearn-color-background);\n",
       "}\n",
       "\n",
       "/* Toggleable label */\n",
       "#sk-container-id-1 label.sk-toggleable__label {\n",
       "  cursor: pointer;\n",
       "  display: block;\n",
       "  width: 100%;\n",
       "  margin-bottom: 0;\n",
       "  padding: 0.5em;\n",
       "  box-sizing: border-box;\n",
       "  text-align: center;\n",
       "}\n",
       "\n",
       "#sk-container-id-1 label.sk-toggleable__label-arrow:before {\n",
       "  /* Arrow on the left of the label */\n",
       "  content: \"▸\";\n",
       "  float: left;\n",
       "  margin-right: 0.25em;\n",
       "  color: var(--sklearn-color-icon);\n",
       "}\n",
       "\n",
       "#sk-container-id-1 label.sk-toggleable__label-arrow:hover:before {\n",
       "  color: var(--sklearn-color-text);\n",
       "}\n",
       "\n",
       "/* Toggleable content - dropdown */\n",
       "\n",
       "#sk-container-id-1 div.sk-toggleable__content {\n",
       "  max-height: 0;\n",
       "  max-width: 0;\n",
       "  overflow: hidden;\n",
       "  text-align: left;\n",
       "  /* unfitted */\n",
       "  background-color: var(--sklearn-color-unfitted-level-0);\n",
       "}\n",
       "\n",
       "#sk-container-id-1 div.sk-toggleable__content.fitted {\n",
       "  /* fitted */\n",
       "  background-color: var(--sklearn-color-fitted-level-0);\n",
       "}\n",
       "\n",
       "#sk-container-id-1 div.sk-toggleable__content pre {\n",
       "  margin: 0.2em;\n",
       "  border-radius: 0.25em;\n",
       "  color: var(--sklearn-color-text);\n",
       "  /* unfitted */\n",
       "  background-color: var(--sklearn-color-unfitted-level-0);\n",
       "}\n",
       "\n",
       "#sk-container-id-1 div.sk-toggleable__content.fitted pre {\n",
       "  /* unfitted */\n",
       "  background-color: var(--sklearn-color-fitted-level-0);\n",
       "}\n",
       "\n",
       "#sk-container-id-1 input.sk-toggleable__control:checked~div.sk-toggleable__content {\n",
       "  /* Expand drop-down */\n",
       "  max-height: 200px;\n",
       "  max-width: 100%;\n",
       "  overflow: auto;\n",
       "}\n",
       "\n",
       "#sk-container-id-1 input.sk-toggleable__control:checked~label.sk-toggleable__label-arrow:before {\n",
       "  content: \"▾\";\n",
       "}\n",
       "\n",
       "/* Pipeline/ColumnTransformer-specific style */\n",
       "\n",
       "#sk-container-id-1 div.sk-label input.sk-toggleable__control:checked~label.sk-toggleable__label {\n",
       "  color: var(--sklearn-color-text);\n",
       "  background-color: var(--sklearn-color-unfitted-level-2);\n",
       "}\n",
       "\n",
       "#sk-container-id-1 div.sk-label.fitted input.sk-toggleable__control:checked~label.sk-toggleable__label {\n",
       "  background-color: var(--sklearn-color-fitted-level-2);\n",
       "}\n",
       "\n",
       "/* Estimator-specific style */\n",
       "\n",
       "/* Colorize estimator box */\n",
       "#sk-container-id-1 div.sk-estimator input.sk-toggleable__control:checked~label.sk-toggleable__label {\n",
       "  /* unfitted */\n",
       "  background-color: var(--sklearn-color-unfitted-level-2);\n",
       "}\n",
       "\n",
       "#sk-container-id-1 div.sk-estimator.fitted input.sk-toggleable__control:checked~label.sk-toggleable__label {\n",
       "  /* fitted */\n",
       "  background-color: var(--sklearn-color-fitted-level-2);\n",
       "}\n",
       "\n",
       "#sk-container-id-1 div.sk-label label.sk-toggleable__label,\n",
       "#sk-container-id-1 div.sk-label label {\n",
       "  /* The background is the default theme color */\n",
       "  color: var(--sklearn-color-text-on-default-background);\n",
       "}\n",
       "\n",
       "/* On hover, darken the color of the background */\n",
       "#sk-container-id-1 div.sk-label:hover label.sk-toggleable__label {\n",
       "  color: var(--sklearn-color-text);\n",
       "  background-color: var(--sklearn-color-unfitted-level-2);\n",
       "}\n",
       "\n",
       "/* Label box, darken color on hover, fitted */\n",
       "#sk-container-id-1 div.sk-label.fitted:hover label.sk-toggleable__label.fitted {\n",
       "  color: var(--sklearn-color-text);\n",
       "  background-color: var(--sklearn-color-fitted-level-2);\n",
       "}\n",
       "\n",
       "/* Estimator label */\n",
       "\n",
       "#sk-container-id-1 div.sk-label label {\n",
       "  font-family: monospace;\n",
       "  font-weight: bold;\n",
       "  display: inline-block;\n",
       "  line-height: 1.2em;\n",
       "}\n",
       "\n",
       "#sk-container-id-1 div.sk-label-container {\n",
       "  text-align: center;\n",
       "}\n",
       "\n",
       "/* Estimator-specific */\n",
       "#sk-container-id-1 div.sk-estimator {\n",
       "  font-family: monospace;\n",
       "  border: 1px dotted var(--sklearn-color-border-box);\n",
       "  border-radius: 0.25em;\n",
       "  box-sizing: border-box;\n",
       "  margin-bottom: 0.5em;\n",
       "  /* unfitted */\n",
       "  background-color: var(--sklearn-color-unfitted-level-0);\n",
       "}\n",
       "\n",
       "#sk-container-id-1 div.sk-estimator.fitted {\n",
       "  /* fitted */\n",
       "  background-color: var(--sklearn-color-fitted-level-0);\n",
       "}\n",
       "\n",
       "/* on hover */\n",
       "#sk-container-id-1 div.sk-estimator:hover {\n",
       "  /* unfitted */\n",
       "  background-color: var(--sklearn-color-unfitted-level-2);\n",
       "}\n",
       "\n",
       "#sk-container-id-1 div.sk-estimator.fitted:hover {\n",
       "  /* fitted */\n",
       "  background-color: var(--sklearn-color-fitted-level-2);\n",
       "}\n",
       "\n",
       "/* Specification for estimator info (e.g. \"i\" and \"?\") */\n",
       "\n",
       "/* Common style for \"i\" and \"?\" */\n",
       "\n",
       ".sk-estimator-doc-link,\n",
       "a:link.sk-estimator-doc-link,\n",
       "a:visited.sk-estimator-doc-link {\n",
       "  float: right;\n",
       "  font-size: smaller;\n",
       "  line-height: 1em;\n",
       "  font-family: monospace;\n",
       "  background-color: var(--sklearn-color-background);\n",
       "  border-radius: 1em;\n",
       "  height: 1em;\n",
       "  width: 1em;\n",
       "  text-decoration: none !important;\n",
       "  margin-left: 1ex;\n",
       "  /* unfitted */\n",
       "  border: var(--sklearn-color-unfitted-level-1) 1pt solid;\n",
       "  color: var(--sklearn-color-unfitted-level-1);\n",
       "}\n",
       "\n",
       ".sk-estimator-doc-link.fitted,\n",
       "a:link.sk-estimator-doc-link.fitted,\n",
       "a:visited.sk-estimator-doc-link.fitted {\n",
       "  /* fitted */\n",
       "  border: var(--sklearn-color-fitted-level-1) 1pt solid;\n",
       "  color: var(--sklearn-color-fitted-level-1);\n",
       "}\n",
       "\n",
       "/* On hover */\n",
       "div.sk-estimator:hover .sk-estimator-doc-link:hover,\n",
       ".sk-estimator-doc-link:hover,\n",
       "div.sk-label-container:hover .sk-estimator-doc-link:hover,\n",
       ".sk-estimator-doc-link:hover {\n",
       "  /* unfitted */\n",
       "  background-color: var(--sklearn-color-unfitted-level-3);\n",
       "  color: var(--sklearn-color-background);\n",
       "  text-decoration: none;\n",
       "}\n",
       "\n",
       "div.sk-estimator.fitted:hover .sk-estimator-doc-link.fitted:hover,\n",
       ".sk-estimator-doc-link.fitted:hover,\n",
       "div.sk-label-container:hover .sk-estimator-doc-link.fitted:hover,\n",
       ".sk-estimator-doc-link.fitted:hover {\n",
       "  /* fitted */\n",
       "  background-color: var(--sklearn-color-fitted-level-3);\n",
       "  color: var(--sklearn-color-background);\n",
       "  text-decoration: none;\n",
       "}\n",
       "\n",
       "/* Span, style for the box shown on hovering the info icon */\n",
       ".sk-estimator-doc-link span {\n",
       "  display: none;\n",
       "  z-index: 9999;\n",
       "  position: relative;\n",
       "  font-weight: normal;\n",
       "  right: .2ex;\n",
       "  padding: .5ex;\n",
       "  margin: .5ex;\n",
       "  width: min-content;\n",
       "  min-width: 20ex;\n",
       "  max-width: 50ex;\n",
       "  color: var(--sklearn-color-text);\n",
       "  box-shadow: 2pt 2pt 4pt #999;\n",
       "  /* unfitted */\n",
       "  background: var(--sklearn-color-unfitted-level-0);\n",
       "  border: .5pt solid var(--sklearn-color-unfitted-level-3);\n",
       "}\n",
       "\n",
       ".sk-estimator-doc-link.fitted span {\n",
       "  /* fitted */\n",
       "  background: var(--sklearn-color-fitted-level-0);\n",
       "  border: var(--sklearn-color-fitted-level-3);\n",
       "}\n",
       "\n",
       ".sk-estimator-doc-link:hover span {\n",
       "  display: block;\n",
       "}\n",
       "\n",
       "/* \"?\"-specific style due to the `<a>` HTML tag */\n",
       "\n",
       "#sk-container-id-1 a.estimator_doc_link {\n",
       "  float: right;\n",
       "  font-size: 1rem;\n",
       "  line-height: 1em;\n",
       "  font-family: monospace;\n",
       "  background-color: var(--sklearn-color-background);\n",
       "  border-radius: 1rem;\n",
       "  height: 1rem;\n",
       "  width: 1rem;\n",
       "  text-decoration: none;\n",
       "  /* unfitted */\n",
       "  color: var(--sklearn-color-unfitted-level-1);\n",
       "  border: var(--sklearn-color-unfitted-level-1) 1pt solid;\n",
       "}\n",
       "\n",
       "#sk-container-id-1 a.estimator_doc_link.fitted {\n",
       "  /* fitted */\n",
       "  border: var(--sklearn-color-fitted-level-1) 1pt solid;\n",
       "  color: var(--sklearn-color-fitted-level-1);\n",
       "}\n",
       "\n",
       "/* On hover */\n",
       "#sk-container-id-1 a.estimator_doc_link:hover {\n",
       "  /* unfitted */\n",
       "  background-color: var(--sklearn-color-unfitted-level-3);\n",
       "  color: var(--sklearn-color-background);\n",
       "  text-decoration: none;\n",
       "}\n",
       "\n",
       "#sk-container-id-1 a.estimator_doc_link.fitted:hover {\n",
       "  /* fitted */\n",
       "  background-color: var(--sklearn-color-fitted-level-3);\n",
       "}\n",
       "</style><div id=\"sk-container-id-1\" class=\"sk-top-container\"><div class=\"sk-text-repr-fallback\"><pre>NearestNeighbors(algorithm=&#x27;brute&#x27;, metric=&#x27;cosine&#x27;)</pre><b>In a Jupyter environment, please rerun this cell to show the HTML representation or trust the notebook. <br />On GitHub, the HTML representation is unable to render, please try loading this page with nbviewer.org.</b></div><div class=\"sk-container\" hidden><div class=\"sk-item\"><div class=\"sk-estimator fitted sk-toggleable\"><input class=\"sk-toggleable__control sk-hidden--visually\" id=\"sk-estimator-id-1\" type=\"checkbox\" checked><label for=\"sk-estimator-id-1\" class=\"sk-toggleable__label fitted sk-toggleable__label-arrow fitted\">&nbsp;&nbsp;NearestNeighbors<a class=\"sk-estimator-doc-link fitted\" rel=\"noreferrer\" target=\"_blank\" href=\"https://scikit-learn.org/1.4/modules/generated/sklearn.neighbors.NearestNeighbors.html\">?<span>Documentation for NearestNeighbors</span></a><span class=\"sk-estimator-doc-link fitted\">i<span>Fitted</span></span></label><div class=\"sk-toggleable__content fitted\"><pre>NearestNeighbors(algorithm=&#x27;brute&#x27;, metric=&#x27;cosine&#x27;)</pre></div> </div></div></div></div>"
      ],
      "text/plain": [
       "NearestNeighbors(algorithm='brute', metric='cosine')"
      ]
     },
     "execution_count": 9,
     "metadata": {},
     "output_type": "execute_result"
    }
   ],
   "source": [
    "model_knn = NearestNeighbors(metric='cosine', algorithm='brute')\n",
    "model_knn.fit(user_movie_table_matrix)"
   ]
  },
  {
   "cell_type": "code",
   "execution_count": 10,
   "id": "566f08af-3f52-45cb-b35e-89c378d80e96",
   "metadata": {},
   "outputs": [],
   "source": [
    "distances, indices = model_knn.kneighbors(user_movie_table.iloc[query_index, :].values.reshape(1, -1), n_neighbors=6)"
   ]
  },
  {
   "cell_type": "code",
   "execution_count": 11,
   "id": "92f6adb3-6926-4aeb-aa15-dd540bf0cd6f",
   "metadata": {},
   "outputs": [],
   "source": [
    "recommended_movies = pd.Series(dtype=object)"
   ]
  },
  {
   "cell_type": "code",
   "execution_count": 12,
   "id": "e2c2de33-d178-48f3-92c9-c48cfe49829e",
   "metadata": {},
   "outputs": [],
   "source": [
    "for i in range(1, len(indices.flatten())):  # Start from 1 to skip the chosen user itself\n",
    "    similar_user_index = indices.flatten()[i]\n",
    "    similar_user_id = user_movie_table.index[similar_user_index]\n",
    "    \n",
    "    # Get the movies rated by the similar user\n",
    "    similar_user_ratings = data[data['userId'] == similar_user_id]\n",
    "    \n",
    "    # Filter out movies that the query user has already rated\n",
    "    query_user_ratings = data[data['userId'] == user_movie_table.index[query_index]]\n",
    "    query_user_movie_ids = query_user_ratings['movieId'].tolist()\n",
    "    recommended_movies = pd.concat([recommended_movies, similar_user_ratings[~similar_user_ratings['movieId'].isin(query_user_movie_ids)]])\n"
   ]
  },
  {
   "cell_type": "code",
   "execution_count": 13,
   "id": "18e93369-a94e-483d-9cad-4b815f0f201f",
   "metadata": {},
   "outputs": [],
   "source": [
    "recommended_movies = recommended_movies.drop_duplicates(subset='movieId').sort_values(by='rating', ascending=False)\n"
   ]
  },
  {
   "cell_type": "code",
   "execution_count": 14,
   "id": "0da7d463-c303-4b7a-8489-a6ffc06e467d",
   "metadata": {},
   "outputs": [
    {
     "name": "stdout",
     "output_type": "stream",
     "text": [
      "\n",
      "Recommendations for User ID 19853:\n",
      "\n"
     ]
    }
   ],
   "source": [
    "print('\\nRecommendations for User ID {0}:\\n'.format(user_movie_table.index[query_index]))\n",
    "for idx, row in recommended_movies.head(10).iterrows():\n",
    "    print(\"Movie: {0}, Average Rating: {1}\".format(row['title'], row['rating']))\n"
   ]
  },
  {
   "cell_type": "code",
   "execution_count": 15,
   "id": "2131c4fa-bedd-4b3e-ba37-9a1dda332c2f",
   "metadata": {},
   "outputs": [],
   "source": [
    "test_users = np.random.choice(user_movie_table.index, size=100, replace=False)\n"
   ]
  },
  {
   "cell_type": "code",
   "execution_count": 17,
   "id": "5cba945a-46a5-426b-a5d7-dba0ff8c4ae8",
   "metadata": {},
   "outputs": [],
   "source": [
    "predictions = []\n",
    "actual = []\n",
    "\n",
    "for user in test_users:\n",
    "    # Get the positional index of the user\n",
    "    user_pos_index = user_movie_table.index.get_loc(user)\n",
    "    user_ratings = user_movie_table.loc[user]\n",
    "    non_zero_ratings = user_ratings[user_ratings > 0].index\n",
    "\n",
    "    for movie in non_zero_ratings:\n",
    "        movie_index = user_movie_table.columns.get_loc(movie)\n",
    "        # Find neighbors for the current user\n",
    "        distances, indices = model_knn.kneighbors(user_movie_table_matrix[user_pos_index, :].reshape(1, -1), n_neighbors=6)\n",
    "\n",
    "        # Take the mean rating of the neighbors as the predicted rating\n",
    "        neighbors_indices = indices.flatten()[1:]\n",
    "        predicted_rating = np.mean([user_movie_table.iloc[i, movie_index] for i in neighbors_indices])\n",
    "\n",
    "        predictions.append(predicted_rating)\n",
    "        actual.append(user_ratings[movie])"
   ]
  },
  {
   "cell_type": "code",
   "execution_count": 18,
   "id": "9f4dc0ff-810e-43d6-9502-26fe43c7784f",
   "metadata": {},
   "outputs": [
    {
     "name": "stdout",
     "output_type": "stream",
     "text": [
      "\n",
      "Root Mean Squared Error (RMSE) for the User-Based Recommendation System: 1.3881\n"
     ]
    }
   ],
   "source": [
    "rmse = np.sqrt(mean_squared_error(actual, predictions))\n",
    "print(\"\\nRoot Mean Squared Error (RMSE) for the User-Based Recommendation System: {:.4f}\".format(rmse))"
   ]
  },
  {
   "cell_type": "code",
   "execution_count": 19,
   "id": "b402bf13-583e-4d0f-bed2-c2a5777b2d55",
   "metadata": {},
   "outputs": [
    {
     "data": {
      "image/png": "[encoded data removed]",
      "text/plain": [
       "<Figure size 1000x600 with 1 Axes>"
      ]
     },
     "metadata": {},
     "output_type": "display_data"
    }
   ],
   "source": [
    "# Plotting the Actual vs Predicted Ratings\n",
    "plt.figure(figsize=(10, 6))\n",
    "plt.scatter(actual, predictions, alpha=0.5)\n",
    "plt.xlabel('Actual Ratings')\n",
    "plt.ylabel('Predicted Ratings')\n",
    "plt.title('Actual vs Predicted Ratings')\n",
    "plt.show()"
   ]
  },
  {
   "cell_type": "code",
   "execution_count": 20,
   "id": "58d46ed6-438a-420f-a379-83ace36ff78d",
   "metadata": {},
   "outputs": [
    {
     "data": {
      "image/png": "[encoded data removed]",
      "text/plain": [
       "<Figure size 1000x600 with 1 Axes>"
      ]
     },
     "metadata": {},
     "output_type": "display_data"
    }
   ],
   "source": [
    "errors = np.array(actual) - np.array(predictions)\n",
    "plt.figure(figsize=(10, 6))\n",
    "sns.histplot(errors, bins=30, kde=True)\n",
    "plt.xlabel('Error (Actual - Predicted)')\n",
    "plt.ylabel('Count')\n",
    "plt.title('Distribution of Errors (Residuals)')\n",
    "plt.show()"
   ]
  },
  {
   "cell_type": "code",
   "execution_count": 21,
   "id": "a3794e44-155d-46ab-971b-78e2bfe9e6d9",
   "metadata": {},
   "outputs": [],
   "source": [
    "from sklearn.metrics import accuracy_score, precision_score, recall_score, roc_curve, auc\n",
    "from sklearn.preprocessing import Binarizer"
   ]
  },
  {
   "cell_type": "code",
   "execution_count": 22,
   "id": "5507d634-a8a9-47d0-9821-cae462cb4625",
   "metadata": {},
   "outputs": [],
   "source": [
    "threshold = 4.0  # Relevant if rating >= threshold\n",
    "k = 5 "
   ]
  },
  {
   "cell_type": "code",
   "execution_count": 23,
   "id": "04d2fc48-acce-436b-b914-24e57b7652b9",
   "metadata": {},
   "outputs": [],
   "source": [
    "binarizer = Binarizer(threshold=threshold)"
   ]
  },
  {
   "cell_type": "code",
   "execution_count": 24,
   "id": "4960371d-c0a7-40fe-ac26-fa63b00fce8e",
   "metadata": {},
   "outputs": [],
   "source": [
    "actual_binary = binarizer.fit_transform(np.array(actual).reshape(-1, 1)).ravel()\n",
    "predictions_binary = binarizer.transform(np.array(predictions).reshape(-1, 1)).ravel()\n"
   ]
  },
  {
   "cell_type": "code",
   "execution_count": 25,
   "id": "0ed46678-74e1-42c3-8091-7bb09c0c328b",
   "metadata": {},
   "outputs": [
    {
     "name": "stdout",
     "output_type": "stream",
     "text": [
      "\n",
      "Accuracy: 0.7817\n"
     ]
    }
   ],
   "source": [
    "accuracy = accuracy_score(actual_binary, predictions_binary)\n",
    "print(\"\\nAccuracy: {:.4f}\".format(accuracy))"
   ]
  },
  {
   "cell_type": "code",
   "execution_count": 26,
   "id": "6849a287-dda4-4472-ae9f-7d762272bf3e",
   "metadata": {},
   "outputs": [
    {
     "name": "stdout",
     "output_type": "stream",
     "text": [
      "\n",
      "Precision: 0.4545\n",
      "Recall: 0.5780\n"
     ]
    }
   ],
   "source": [
    "precision = precision_score(actual_binary, predictions_binary)\n",
    "recall = recall_score(actual_binary, predictions_binary)\n",
    "print(\"\\nPrecision: {:.4f}\".format(precision))\n",
    "print(\"Recall: {:.4f}\".format(recall))"
   ]
  },
  {
   "cell_type": "code",
   "execution_count": 27,
   "id": "80370b2b-6460-45d0-9ad6-c77b24236935",
   "metadata": {},
   "outputs": [
    {
     "name": "stdout",
     "output_type": "stream",
     "text": [
      "Area Under the Curve (AUC): 0.8005\n"
     ]
    }
   ],
   "source": [
    "fpr, tpr, _ = roc_curve(actual_binary, predictions)\n",
    "roc_auc = auc(fpr, tpr)\n",
    "print(\"Area Under the Curve (AUC): {:.4f}\".format(roc_auc))"
   ]
  },
  {
   "cell_type": "code",
   "execution_count": 28,
   "id": "ecf3125d-55a6-491e-a011-2c9165d02f29",
   "metadata": {},
   "outputs": [
    {
     "data": {
      "text/plain": [
       "<Figure size 1500x600 with 0 Axes>"
      ]
     },
     "execution_count": 28,
     "metadata": {},
     "output_type": "execute_result"
    },
    {
     "data": {
      "text/plain": [
       "<Figure size 1500x600 with 0 Axes>"
      ]
     },
     "metadata": {},
     "output_type": "display_data"
    }
   ],
   "source": [
    "plt.figure(figsize=(15, 6))"
   ]
  },
  {
   "cell_type": "code",
   "execution_count": 29,
   "id": "37e83848-12fb-46df-ac05-2af129449233",
   "metadata": {},
   "outputs": [
    {
     "data": {
      "text/plain": [
       "Text(0.5, 1.0, 'Precision and Recall')"
      ]
     },
     "execution_count": 29,
     "metadata": {},
     "output_type": "execute_result"
    },
    {
     "data": {
      "image/png": "[encoded data removed]",
      "text/plain": [
       "<Figure size 640x480 with 1 Axes>"
      ]
     },
     "metadata": {},
     "output_type": "display_data"
    }
   ],
   "source": [
    "# Plotting Precision and Recall\n",
    "plt.subplot(1, 2, 1)\n",
    "plt.bar(['Precision', 'Recall'], [precision, recall], color=['blue', 'green'])\n",
    "plt.ylabel('Score')\n",
    "plt.ylim(0, 1)\n",
    "plt.title('Precision and Recall')"
   ]
  },
  {
   "cell_type": "code",
   "execution_count": 30,
   "id": "a97fe018-1ba0-4f35-b2a7-8ef8cbc985f7",
   "metadata": {},
   "outputs": [
    {
     "data": {
      "text/plain": [
       "<matplotlib.legend.Legend at 0x2060911a6d0>"
      ]
     },
     "execution_count": 30,
     "metadata": {},
     "output_type": "execute_result"
    },
    {
     "data": {
      "image/png": "[encoded data removed]",
      "text/plain": [
       "<Figure size 640x480 with 1 Axes>"
      ]
     },
     "metadata": {},
     "output_type": "display_data"
    }
   ],
   "source": [
    "# Plotting ROC Curve\n",
    "plt.subplot(1, 2, 2)\n",
    "plt.plot(fpr, tpr, color='orange', lw=2, label='ROC curve (area = {:.2f})'.format(roc_auc))\n",
    "plt.plot([0, 1], [0, 1], color='navy', linestyle='--')\n",
    "plt.xlabel('False Positive Rate')\n",
    "plt.ylabel('True Positive Rate')\n",
    "plt.title('Receiver Operating Characteristic (ROC) Curve')\n",
    "plt.legend(loc=\"lower right\")"
   ]
  },
  {
   "cell_type": "code",
   "execution_count": 31,
   "id": "f4ce87ac-4ce8-41c6-bf89-5da76c997771",
   "metadata": {},
   "outputs": [
    {
     "data": {
      "text/plain": [
       "<Figure size 640x480 with 0 Axes>"
      ]
     },
     "metadata": {},
     "output_type": "display_data"
    }
   ],
   "source": [
    "plt.tight_layout()\n",
    "plt.show()\n",
    "\n",
    "# Additional Metrics: Precision@k and Recall@k\n",
    "precision_at_k = []\n",
    "recall_at_k = []"
   ]
  },
  {
   "cell_type": "code",
   "execution_count": 32,
   "id": "b7c8cede-a274-441e-8b3a-54597df90514",
   "metadata": {},
   "outputs": [],
   "source": [
    "for user in test_users:\n",
    "    user_pos_index = user_movie_table.index.get_loc(user)\n",
    "    user_ratings = user_movie_table.loc[user]\n",
    "    non_zero_ratings = user_ratings[user_ratings > 0].index\n",
    "\n",
    "    actual_relevant_movies = user_ratings[non_zero_ratings]\n",
    "    actual_relevant_movies = actual_relevant_movies[actual_relevant_movies >= threshold]\n",
    "\n",
    "    # Get neighbors and their ratings\n",
    "    distances, indices = model_knn.kneighbors(user_movie_table_matrix[user_pos_index, :].reshape(1, -1), n_neighbors=k+1)\n",
    "    neighbors_indices = indices.flatten()[1:]  # skip the user itself\n",
    "\n",
    "    predicted_relevant_movies = []\n",
    "\n",
    "    for neighbor_index in neighbors_indices:\n",
    "        neighbor_ratings = user_movie_table.iloc[neighbor_index]\n",
    "        predicted_relevant_movies.extend(neighbor_ratings[neighbor_ratings >= threshold].index)\n",
    "\n",
    "    # Calculate precision and recall for the top k recommendations\n",
    "    predicted_relevant_movies = predicted_relevant_movies[:k]\n",
    "    relevant_and_recommended = set(actual_relevant_movies.index) & set(predicted_relevant_movies)\n",
    "    \n",
    "    if len(predicted_relevant_movies) > 0:\n",
    "        precision_at_k.append(len(relevant_and_recommended) / len(predicted_relevant_movies))\n",
    "    else:\n",
    "        precision_at_k.append(0)\n",
    "\n",
    "    if len(actual_relevant_movies) > 0:\n",
    "        recall_at_k.append(len(relevant_and_recommended) / len(actual_relevant_movies))\n",
    "    else:\n",
    "        recall_at_k.append(0)"
   ]
  },
  {
   "cell_type": "code",
   "execution_count": 35,
   "id": "bccffba1-5401-452c-bbca-997caa1dada6",
   "metadata": {},
   "outputs": [
    {
     "name": "stdout",
     "output_type": "stream",
     "text": [
      "\n",
      "Average Precision@5: 0.4272\n",
      "Average Recall@5: 0.6808\n"
     ]
    }
   ],
   "source": [
    "# Calculate the average Precision@k and Recall@k\n",
    "avg_precision_at_k = np.mean(precision_at_k)\n",
    "avg_recall_at_k = np.mean(recall_at_k)\n",
    "print(\"\\nAverage Precision@{}: {:.4f}\".format(k, avg_precision_at_k))\n",
    "print(\"Average Recall@{}: {:.4f}\".format(k, avg_recall_at_k))"
   ]
  },
  {
   "cell_type": "code",
   "execution_count": 36,
   "id": "71f5f26b-93d0-4fea-b9cd-33131e6467aa",
   "metadata": {},
   "outputs": [
    {
     "data": {
      "image/png": "[encoded data removed]",
      "text/plain": [
       "<Figure size 800x600 with 1 Axes>"
      ]
     },
     "metadata": {},
     "output_type": "display_data"
    }
   ],
   "source": [
    "# Visualize Precision@k and Recall@k\n",
    "plt.figure(figsize=(8, 6))\n",
    "plt.bar(['Precision@{}'.format(k), 'Recall@{}'.format(k)], [avg_precision_at_k, avg_recall_at_k], color=['blue', 'green'])\n",
    "plt.ylabel('Score')\n",
    "plt.ylim(0, 1)\n",
    "plt.title('Precision@{} and Recall@{}'.format(k, k))\n",
    "plt.show()"
   ]
  },
  {
   "cell_type": "code",
   "execution_count": null,
   "id": "8807c760-88e2-4097-99e3-c17e6bcd194e",
   "metadata": {},
   "outputs": [],
   "source": []
  }
 ],
 "metadata": {
  "kernelspec": {
   "display_name": "Python 3 (ipykernel)",
   "language": "python",
   "name": "python3"
  },
  "language_info": {
   "codemirror_mode": {
    "name": "ipython",
    "version": 3
   },
   "file_extension": ".py",
   "mimetype": "text/x-python",
   "name": "python",
   "nbconvert_exporter": "python",
   "pygments_lexer": "ipython3",
   "version": "3.11.4"
  }
 },
 "nbformat": 4,
 "nbformat_minor": 5
}
